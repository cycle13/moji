{
 "cells": [
  {
   "cell_type": "markdown",
   "metadata": {
    "collapsed": true
   },
   "source": [
    "import os,datetime,subprocess\n",
    "def deletecldasfiles(filepath):\n",
    "    now=datetime.datetime.now()\n",
    "    yearstr=str(now.year)\n",
    "    filepathyear=filepath+'/'+yearstr\n",
    "    flagtime=now+datetime.timedelta(days=-1)\n",
    "    for root,dirs,files in os.walk(filepathyear):\n",
    "        for dir in dirs:\n",
    "            #print dir\n",
    "            if len(str(dir))>5:\n",
    "                pathtime=datetime.datetime.strptime(dir,'%Y-%m-%d')\n",
    "                if pathtime<flagtime:\n",
    "                    fullpath=os.path.join(root,dir)\n",
    "                    print fullpath\n",
    "                    #先删除里面的文件\n",
    "                    for croot,cdirs,cfiles in os.walk(fullpath):\n",
    "                        for cfile in cfiles:\n",
    "                            cfilefullname=os.path.join(croot,cfile)\n",
    "                            print cfilefullname\n",
    "                            \n",
    "                            subprocess.call('sudo rm -rf '+cfilefullname)\n",
    "deletecldasfiles('/moji/meteo/cluster/data/CLDAS')\n"
   ]
  },
  {
   "cell_type": "code",
   "execution_count": null,
   "metadata": {},
   "outputs": [],
   "source": []
  },
  {
   "cell_type": "code",
   "execution_count": null,
   "metadata": {},
   "outputs": [],
   "source": []
  }
 ],
 "metadata": {
  "kernelspec": {
   "display_name": "Python 2",
   "language": "python",
   "name": "python2"
  },
  "language_info": {
   "codemirror_mode": {
    "name": "ipython",
    "version": 2
   },
   "file_extension": ".py",
   "mimetype": "text/x-python",
   "name": "python",
   "nbconvert_exporter": "python",
   "pygments_lexer": "ipython2",
   "version": "2.7.6"
  }
 },
 "nbformat": 4,
 "nbformat_minor": 0
}
